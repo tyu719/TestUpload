{
  "nbformat": 4,
  "nbformat_minor": 0,
  "metadata": {
    "colab": {
      "name": "homework6_tyu29.ipynb",
      "provenance": [],
      "mount_file_id": "1cckrLFDBIABviPquVaotWqYQPsZaTiID",
      "authorship_tag": "ABX9TyO6wD1T0tmZ3sk/k/X2We+M",
      "include_colab_link": true
    },
    "kernelspec": {
      "name": "python3",
      "display_name": "Python 3"
    }
  },
  "cells": [
    {
      "cell_type": "markdown",
      "metadata": {
        "id": "view-in-github",
        "colab_type": "text"
      },
      "source": [
        "<a href=\"https://colab.research.google.com/github/tyu719/TestUpload/blob/master/homework6_tyu29.ipynb\" target=\"_parent\"><img src=\"https://colab.research.google.com/assets/colab-badge.svg\" alt=\"Open In Colab\"/></a>"
      ]
    },
    {
      "cell_type": "markdown",
      "metadata": {
        "id": "zHwnCTi9YK2y",
        "colab_type": "text"
      },
      "source": [
        "import packages\n"
      ]
    },
    {
      "cell_type": "code",
      "metadata": {
        "id": "bp3_uC9QWxoY",
        "colab_type": "code",
        "colab": {}
      },
      "source": [
        "import pandas as pd\n",
        "import numpy as np\n",
        "import seaborn as sns\n",
        "import matplotlib.pyplot as plt\n",
        "import statsmodels.formula.api as smf"
      ],
      "execution_count": 0,
      "outputs": []
    },
    {
      "cell_type": "markdown",
      "metadata": {
        "id": "8-mocJKMYUAY",
        "colab_type": "text"
      },
      "source": [
        "load data"
      ]
    },
    {
      "cell_type": "code",
      "metadata": {
        "id": "xHVjKS_SYJYB",
        "colab_type": "code",
        "colab": {
          "base_uri": "https://localhost:8080/",
          "height": 34
        },
        "outputId": "456072b2-05ee-48d1-8000-06872b6a99ba"
      },
      "source": [
        "from google.colab import drive\n",
        "drive.mount('/content/drive/')"
      ],
      "execution_count": 37,
      "outputs": [
        {
          "output_type": "stream",
          "text": [
            "Drive already mounted at /content/drive/; to attempt to forcibly remount, call drive.mount(\"/content/drive/\", force_remount=True).\n"
          ],
          "name": "stdout"
        }
      ]
    },
    {
      "cell_type": "code",
      "metadata": {
        "id": "Cig-t_QkZYC3",
        "colab_type": "code",
        "colab": {
          "base_uri": "https://localhost:8080/",
          "height": 224
        },
        "outputId": "15d3a39b-4907-4429-9a82-dea3ee12312c"
      },
      "source": [
        "dat = pd.read_csv(\"/content/drive/My Drive/shhs1.txt\", delimiter=\"\\t\")\n",
        "dat.head(5)"
      ],
      "execution_count": 38,
      "outputs": [
        {
          "output_type": "execute_result",
          "data": {
            "text/html": [
              "<div>\n",
              "<style scoped>\n",
              "    .dataframe tbody tr th:only-of-type {\n",
              "        vertical-align: middle;\n",
              "    }\n",
              "\n",
              "    .dataframe tbody tr th {\n",
              "        vertical-align: top;\n",
              "    }\n",
              "\n",
              "    .dataframe thead th {\n",
              "        text-align: right;\n",
              "    }\n",
              "</style>\n",
              "<table border=\"1\" class=\"dataframe\">\n",
              "  <thead>\n",
              "    <tr style=\"text-align: right;\">\n",
              "      <th></th>\n",
              "      <th>pptid</th>\n",
              "      <th>waist</th>\n",
              "      <th>COPD15</th>\n",
              "      <th>ASTHMA15</th>\n",
              "      <th>slp_lat</th>\n",
              "      <th>time_bed</th>\n",
              "      <th>timest1p</th>\n",
              "      <th>timest2p</th>\n",
              "      <th>times34p</th>\n",
              "      <th>timeremp</th>\n",
              "      <th>rdi4p</th>\n",
              "      <th>StLOutP</th>\n",
              "      <th>StOnsetP</th>\n",
              "      <th>SlpPrdP</th>\n",
              "      <th>Staging1</th>\n",
              "      <th>Staging2</th>\n",
              "      <th>Staging3</th>\n",
              "      <th>Staging4</th>\n",
              "      <th>Staging5</th>\n",
              "      <th>RestAn1</th>\n",
              "      <th>RestAn2</th>\n",
              "      <th>RestAn3</th>\n",
              "      <th>RestAn4</th>\n",
              "      <th>HTNDerv_s1</th>\n",
              "      <th>shhs1_tcvd</th>\n",
              "      <th>gender</th>\n",
              "      <th>age_s1</th>\n",
              "      <th>smokstat_s1</th>\n",
              "      <th>WASO</th>\n",
              "      <th>bmi_s1</th>\n",
              "    </tr>\n",
              "  </thead>\n",
              "  <tbody>\n",
              "    <tr>\n",
              "      <th>0</th>\n",
              "      <td>1</td>\n",
              "      <td>86.0</td>\n",
              "      <td>0.0</td>\n",
              "      <td>0.0</td>\n",
              "      <td>NaN</td>\n",
              "      <td>440.5</td>\n",
              "      <td>6.258322</td>\n",
              "      <td>60.852196</td>\n",
              "      <td>19.307590</td>\n",
              "      <td>13.581891</td>\n",
              "      <td>1.438083</td>\n",
              "      <td>28</td>\n",
              "      <td>28</td>\n",
              "      <td>375.5</td>\n",
              "      <td>0.0</td>\n",
              "      <td>0.0</td>\n",
              "      <td>0.0</td>\n",
              "      <td>1.0</td>\n",
              "      <td>0.0</td>\n",
              "      <td>1.0</td>\n",
              "      <td>0.0</td>\n",
              "      <td>0.0</td>\n",
              "      <td>0.0</td>\n",
              "      <td>1</td>\n",
              "      <td>0</td>\n",
              "      <td>1</td>\n",
              "      <td>55</td>\n",
              "      <td>2.0</td>\n",
              "      <td>65.0</td>\n",
              "      <td>21.777553</td>\n",
              "    </tr>\n",
              "    <tr>\n",
              "      <th>1</th>\n",
              "      <td>2</td>\n",
              "      <td>107.0</td>\n",
              "      <td>0.0</td>\n",
              "      <td>0.0</td>\n",
              "      <td>NaN</td>\n",
              "      <td>225.0</td>\n",
              "      <td>0.824176</td>\n",
              "      <td>65.659340</td>\n",
              "      <td>16.758242</td>\n",
              "      <td>16.758242</td>\n",
              "      <td>17.802198</td>\n",
              "      <td>0</td>\n",
              "      <td>0</td>\n",
              "      <td>182.0</td>\n",
              "      <td>NaN</td>\n",
              "      <td>NaN</td>\n",
              "      <td>NaN</td>\n",
              "      <td>NaN</td>\n",
              "      <td>NaN</td>\n",
              "      <td>NaN</td>\n",
              "      <td>NaN</td>\n",
              "      <td>NaN</td>\n",
              "      <td>NaN</td>\n",
              "      <td>1</td>\n",
              "      <td>0</td>\n",
              "      <td>1</td>\n",
              "      <td>78</td>\n",
              "      <td>0.0</td>\n",
              "      <td>43.0</td>\n",
              "      <td>32.950680</td>\n",
              "    </tr>\n",
              "    <tr>\n",
              "      <th>2</th>\n",
              "      <td>3</td>\n",
              "      <td>82.0</td>\n",
              "      <td>0.0</td>\n",
              "      <td>0.0</td>\n",
              "      <td>NaN</td>\n",
              "      <td>431.5</td>\n",
              "      <td>4.881451</td>\n",
              "      <td>40.306835</td>\n",
              "      <td>42.817295</td>\n",
              "      <td>11.994421</td>\n",
              "      <td>4.853556</td>\n",
              "      <td>167</td>\n",
              "      <td>167</td>\n",
              "      <td>358.5</td>\n",
              "      <td>1.0</td>\n",
              "      <td>0.0</td>\n",
              "      <td>0.0</td>\n",
              "      <td>0.0</td>\n",
              "      <td>0.0</td>\n",
              "      <td>1.0</td>\n",
              "      <td>0.0</td>\n",
              "      <td>0.0</td>\n",
              "      <td>0.0</td>\n",
              "      <td>0</td>\n",
              "      <td>0</td>\n",
              "      <td>0</td>\n",
              "      <td>77</td>\n",
              "      <td>0.0</td>\n",
              "      <td>73.0</td>\n",
              "      <td>24.114150</td>\n",
              "    </tr>\n",
              "    <tr>\n",
              "      <th>3</th>\n",
              "      <td>4</td>\n",
              "      <td>85.0</td>\n",
              "      <td>0.0</td>\n",
              "      <td>0.0</td>\n",
              "      <td>14.0</td>\n",
              "      <td>358.5</td>\n",
              "      <td>2.990033</td>\n",
              "      <td>29.401993</td>\n",
              "      <td>52.325581</td>\n",
              "      <td>15.282393</td>\n",
              "      <td>0.797342</td>\n",
              "      <td>54</td>\n",
              "      <td>82</td>\n",
              "      <td>301.0</td>\n",
              "      <td>1.0</td>\n",
              "      <td>0.0</td>\n",
              "      <td>0.0</td>\n",
              "      <td>0.0</td>\n",
              "      <td>0.0</td>\n",
              "      <td>1.0</td>\n",
              "      <td>0.0</td>\n",
              "      <td>0.0</td>\n",
              "      <td>0.0</td>\n",
              "      <td>1</td>\n",
              "      <td>0</td>\n",
              "      <td>1</td>\n",
              "      <td>48</td>\n",
              "      <td>0.0</td>\n",
              "      <td>43.5</td>\n",
              "      <td>20.185185</td>\n",
              "    </tr>\n",
              "    <tr>\n",
              "      <th>4</th>\n",
              "      <td>5</td>\n",
              "      <td>76.0</td>\n",
              "      <td>0.0</td>\n",
              "      <td>0.0</td>\n",
              "      <td>6.5</td>\n",
              "      <td>477.0</td>\n",
              "      <td>5.675676</td>\n",
              "      <td>68.648651</td>\n",
              "      <td>13.378378</td>\n",
              "      <td>12.297297</td>\n",
              "      <td>2.756757</td>\n",
              "      <td>7</td>\n",
              "      <td>20</td>\n",
              "      <td>370.0</td>\n",
              "      <td>1.0</td>\n",
              "      <td>0.0</td>\n",
              "      <td>0.0</td>\n",
              "      <td>0.0</td>\n",
              "      <td>0.0</td>\n",
              "      <td>1.0</td>\n",
              "      <td>0.0</td>\n",
              "      <td>0.0</td>\n",
              "      <td>0.0</td>\n",
              "      <td>1</td>\n",
              "      <td>0</td>\n",
              "      <td>0</td>\n",
              "      <td>66</td>\n",
              "      <td>2.0</td>\n",
              "      <td>100.5</td>\n",
              "      <td>23.309053</td>\n",
              "    </tr>\n",
              "  </tbody>\n",
              "</table>\n",
              "</div>"
            ],
            "text/plain": [
              "   pptid  waist  COPD15  ASTHMA15  ...  age_s1  smokstat_s1   WASO     bmi_s1\n",
              "0      1   86.0     0.0       0.0  ...      55          2.0   65.0  21.777553\n",
              "1      2  107.0     0.0       0.0  ...      78          0.0   43.0  32.950680\n",
              "2      3   82.0     0.0       0.0  ...      77          0.0   73.0  24.114150\n",
              "3      4   85.0     0.0       0.0  ...      48          0.0   43.5  20.185185\n",
              "4      5   76.0     0.0       0.0  ...      66          2.0  100.5  23.309053\n",
              "\n",
              "[5 rows x 30 columns]"
            ]
          },
          "metadata": {
            "tags": []
          },
          "execution_count": 38
        }
      ]
    },
    {
      "cell_type": "markdown",
      "metadata": {
        "id": "CIKxnuPSd1yL",
        "colab_type": "text"
      },
      "source": [
        "Fit a linear model"
      ]
    },
    {
      "cell_type": "code",
      "metadata": {
        "id": "Z81gDsoZd3gX",
        "colab_type": "code",
        "colab": {
          "base_uri": "https://localhost:8080/",
          "height": 444
        },
        "outputId": "6a666ca9-ab0a-4999-842f-0cabd00970e1"
      },
      "source": [
        "fit = smf.ols('np.log(rdi4p + 1) ~ bmi_s1', data = dat).fit()\n",
        "fit.summary()"
      ],
      "execution_count": 39,
      "outputs": [
        {
          "output_type": "execute_result",
          "data": {
            "text/html": [
              "<table class=\"simpletable\">\n",
              "<caption>OLS Regression Results</caption>\n",
              "<tr>\n",
              "  <th>Dep. Variable:</th>    <td>np.log(rdi4p + 1)</td> <th>  R-squared:         </th> <td>   0.135</td> \n",
              "</tr>\n",
              "<tr>\n",
              "  <th>Model:</th>                   <td>OLS</td>        <th>  Adj. R-squared:    </th> <td>   0.135</td> \n",
              "</tr>\n",
              "<tr>\n",
              "  <th>Method:</th>             <td>Least Squares</td>   <th>  F-statistic:       </th> <td>   898.9</td> \n",
              "</tr>\n",
              "<tr>\n",
              "  <th>Date:</th>             <td>Sat, 28 Mar 2020</td>  <th>  Prob (F-statistic):</th> <td>1.20e-183</td>\n",
              "</tr>\n",
              "<tr>\n",
              "  <th>Time:</th>                 <td>04:58:40</td>      <th>  Log-Likelihood:    </th> <td> -8087.1</td> \n",
              "</tr>\n",
              "<tr>\n",
              "  <th>No. Observations:</th>      <td>  5761</td>       <th>  AIC:               </th> <td>1.618e+04</td>\n",
              "</tr>\n",
              "<tr>\n",
              "  <th>Df Residuals:</th>          <td>  5759</td>       <th>  BIC:               </th> <td>1.619e+04</td>\n",
              "</tr>\n",
              "<tr>\n",
              "  <th>Df Model:</th>              <td>     1</td>       <th>                     </th>     <td> </td>    \n",
              "</tr>\n",
              "<tr>\n",
              "  <th>Covariance Type:</th>      <td>nonrobust</td>     <th>                     </th>     <td> </td>    \n",
              "</tr>\n",
              "</table>\n",
              "<table class=\"simpletable\">\n",
              "<tr>\n",
              "      <td></td>         <th>coef</th>     <th>std err</th>      <th>t</th>      <th>P>|t|</th>  <th>[0.025</th>    <th>0.975]</th>  \n",
              "</tr>\n",
              "<tr>\n",
              "  <th>Intercept</th> <td>   -0.4630</td> <td>    0.073</td> <td>   -6.342</td> <td> 0.000</td> <td>   -0.606</td> <td>   -0.320</td>\n",
              "</tr>\n",
              "<tr>\n",
              "  <th>bmi_s1</th>    <td>    0.0765</td> <td>    0.003</td> <td>   29.981</td> <td> 0.000</td> <td>    0.071</td> <td>    0.081</td>\n",
              "</tr>\n",
              "</table>\n",
              "<table class=\"simpletable\">\n",
              "<tr>\n",
              "  <th>Omnibus:</th>       <td>196.973</td> <th>  Durbin-Watson:     </th> <td>   1.951</td>\n",
              "</tr>\n",
              "<tr>\n",
              "  <th>Prob(Omnibus):</th> <td> 0.000</td>  <th>  Jarque-Bera (JB):  </th> <td> 144.707</td>\n",
              "</tr>\n",
              "<tr>\n",
              "  <th>Skew:</th>          <td> 0.290</td>  <th>  Prob(JB):          </th> <td>3.78e-32</td>\n",
              "</tr>\n",
              "<tr>\n",
              "  <th>Kurtosis:</th>      <td> 2.485</td>  <th>  Cond. No.          </th> <td>    161.</td>\n",
              "</tr>\n",
              "</table><br/><br/>Warnings:<br/>[1] Standard Errors assume that the covariance matrix of the errors is correctly specified."
            ],
            "text/plain": [
              "<class 'statsmodels.iolib.summary.Summary'>\n",
              "\"\"\"\n",
              "                            OLS Regression Results                            \n",
              "==============================================================================\n",
              "Dep. Variable:      np.log(rdi4p + 1)   R-squared:                       0.135\n",
              "Model:                            OLS   Adj. R-squared:                  0.135\n",
              "Method:                 Least Squares   F-statistic:                     898.9\n",
              "Date:                Sat, 28 Mar 2020   Prob (F-statistic):          1.20e-183\n",
              "Time:                        04:58:40   Log-Likelihood:                -8087.1\n",
              "No. Observations:                5761   AIC:                         1.618e+04\n",
              "Df Residuals:                    5759   BIC:                         1.619e+04\n",
              "Df Model:                           1                                         \n",
              "Covariance Type:            nonrobust                                         \n",
              "==============================================================================\n",
              "                 coef    std err          t      P>|t|      [0.025      0.975]\n",
              "------------------------------------------------------------------------------\n",
              "Intercept     -0.4630      0.073     -6.342      0.000      -0.606      -0.320\n",
              "bmi_s1         0.0765      0.003     29.981      0.000       0.071       0.081\n",
              "==============================================================================\n",
              "Omnibus:                      196.973   Durbin-Watson:                   1.951\n",
              "Prob(Omnibus):                  0.000   Jarque-Bera (JB):              144.707\n",
              "Skew:                           0.290   Prob(JB):                     3.78e-32\n",
              "Kurtosis:                       2.485   Cond. No.                         161.\n",
              "==============================================================================\n",
              "\n",
              "Warnings:\n",
              "[1] Standard Errors assume that the covariance matrix of the errors is correctly specified.\n",
              "\"\"\""
            ]
          },
          "metadata": {
            "tags": []
          },
          "execution_count": 39
        }
      ]
    },
    {
      "cell_type": "markdown",
      "metadata": {
        "id": "yY7DEBgzb9E-",
        "colab_type": "text"
      },
      "source": [
        "Scatter plot of log(rdi4p + 1)"
      ]
    },
    {
      "cell_type": "code",
      "metadata": {
        "id": "s9W4GdgGcOMn",
        "colab_type": "code",
        "colab": {
          "base_uri": "https://localhost:8080/",
          "height": 297
        },
        "outputId": "685e0faa-2c31-4410-bbab-0c9fe79295cd"
      },
      "source": [
        "x = dat['bmi_s1']\n",
        "y = np.log(dat['rdi4p'] + 1)\n",
        "sns.scatterplot(x, y)\n",
        "sns.lineplot(x, -0.4630 + 0.0765 * x)"
      ],
      "execution_count": 52,
      "outputs": [
        {
          "output_type": "execute_result",
          "data": {
            "text/plain": [
              "<matplotlib.axes._subplots.AxesSubplot at 0x7fb29f3f5e80>"
            ]
          },
          "metadata": {
            "tags": []
          },
          "execution_count": 52
        },
        {
          "output_type": "display_data",
          "data": {
            "image/png": "[encoded data removed]",
            "text/plain": [
              "<Figure size 432x288 with 1 Axes>"
            ]
          },
          "metadata": {
            "tags": []
          }
        }
      ]
    },
    {
      "cell_type": "markdown",
      "metadata": {
        "id": "MEWMCZzRje0G",
        "colab_type": "text"
      },
      "source": [
        "Predict rdi4p for a person with bmi = 30"
      ]
    },
    {
      "cell_type": "code",
      "metadata": {
        "id": "bj6Is1WYjkQH",
        "colab_type": "code",
        "colab": {
          "base_uri": "https://localhost:8080/",
          "height": 34
        },
        "outputId": "ac0a0ceb-500a-4451-b110-a97eaa8f98b7"
      },
      "source": [
        "np.exp(-0.4630 + 0.0765 * 30) - 1"
      ],
      "execution_count": 54,
      "outputs": [
        {
          "output_type": "execute_result",
          "data": {
            "text/plain": [
              "5.2463669079310895"
            ]
          },
          "metadata": {
            "tags": []
          },
          "execution_count": 54
        }
      ]
    }
  ]
}